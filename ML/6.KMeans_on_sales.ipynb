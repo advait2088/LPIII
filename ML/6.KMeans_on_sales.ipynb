{
 "cells": [
  {
   "cell_type": "code",
   "execution_count": null,
   "metadata": {},
   "outputs": [],
   "source": [
    "import pandas as pd\n",
    "import numpy as np"
   ]
  },
  {
   "cell_type": "code",
   "execution_count": null,
   "metadata": {},
   "outputs": [],
   "source": [
    "df = pd.read_csv('./sales_data_sample.csv', encoding='unicode_escape')"
   ]
  },
  {
   "cell_type": "code",
   "execution_count": null,
   "metadata": {},
   "outputs": [],
   "source": [
    "df.head"
   ]
  },
  {
   "cell_type": "code",
   "execution_count": null,
   "metadata": {},
   "outputs": [],
   "source": [
    "df.info"
   ]
  },
  {
   "cell_type": "code",
   "execution_count": null,
   "metadata": {},
   "outputs": [],
   "source": [
    "to_drop = ['ADDRESSLINE1', 'ADDRESSLINE2', 'STATE', 'POSTALCODE', 'PHONE']\n",
    "df = df.drop(to_drop, axis=1)"
   ]
  },
  {
   "cell_type": "code",
   "execution_count": null,
   "metadata": {},
   "outputs": [],
   "source": [
    "df.isnull().sum()"
   ]
  },
  {
   "cell_type": "code",
   "execution_count": null,
   "metadata": {},
   "outputs": [],
   "source": [
    "df.dtypes"
   ]
  },
  {
   "cell_type": "code",
   "execution_count": null,
   "metadata": {},
   "outputs": [],
   "source": [
    "df['ORDERDATE'] = pd.to_datetime(df['ORDERDATE'])"
   ]
  },
  {
   "cell_type": "code",
   "execution_count": null,
   "metadata": {},
   "outputs": [],
   "source": [
    "\n",
    "import datetime as dt\n",
    "snapshot_date = df['ORDERDATE'].max() + dt.timedelta(days = 1)\n",
    "df_RFM = df.groupby(['CUSTOMERNAME']).agg({\n",
    "    'ORDERDATE' : lambda x : (snapshot_date - x.max()).days,\n",
    "    'ORDERNUMBER' : 'count',\n",
    "    'SALES' : 'sum'\n",
    "})\n",
    "\n",
    "df_RFM.rename(columns = {\n",
    "    'ORDERDATE' : 'Recency',\n",
    "    'ORDERNUMBER' : 'Frequency',\n",
    "    'SALES' : 'MonetaryValue'\n",
    "}, inplace=True)"
   ]
  },
  {
   "cell_type": "code",
   "execution_count": null,
   "metadata": {},
   "outputs": [],
   "source": [
    "df_RFM.head()"
   ]
  },
  {
   "cell_type": "code",
   "execution_count": null,
   "metadata": {},
   "outputs": [],
   "source": [
    "df_RFM['M'] = pd.qcut(df_RFM['MonetaryValue'], q = 4, labels = range(1,5))\n",
    "df_RFM['R'] = pd.qcut(df_RFM['Recency'], q = 4, labels = list(range(4,0,-1)))\n",
    "df_RFM['F'] = pd.qcut(df_RFM['Frequency'], q = 4, labels = range(1,5))\n",
    "\n",
    "df_RFM.head()"
   ]
  },
  {
   "cell_type": "code",
   "execution_count": null,
   "metadata": {},
   "outputs": [],
   "source": [
    "df_RFM['RFM_Score'] = df_RFM[['R', 'M', 'F']].sum(axis=1)\n",
    "df_RFM.head()"
   ]
  },
  {
   "cell_type": "code",
   "execution_count": null,
   "metadata": {},
   "outputs": [],
   "source": [
    "def rfm_level(df):\n",
    "    if bool(df['RFM_Score'] >= 10):\n",
    "        return 'High Value Customer'\n",
    "    \n",
    "    elif bool(df['RFM_Score'] < 10) and bool(df['RFM_Score'] >= 6):\n",
    "        return 'Mid Value Customer'\n",
    "    else:\n",
    "        return 'Low Value Customer'\n",
    "df_RFM['RFM_Level'] = df_RFM.apply(rfm_level, axis = 1)\n",
    "df_RFM.head()"
   ]
  },
  {
   "cell_type": "code",
   "execution_count": null,
   "metadata": {},
   "outputs": [],
   "source": [
    "data = df_RFM[['Recency', 'Frequency', 'MonetaryValue']]\n",
    "data.head()"
   ]
  },
  {
   "cell_type": "code",
   "execution_count": null,
   "metadata": {},
   "outputs": [],
   "source": [
    "data_log = np.log(data)\n",
    "data_log.head()"
   ]
  },
  {
   "cell_type": "code",
   "execution_count": null,
   "metadata": {},
   "outputs": [],
   "source": [
    "from sklearn.preprocessing import StandardScaler\n",
    "scaler = StandardScaler()\n",
    "scaler.fit(data_log)\n",
    "data_normalized = scaler.transform(data_log)\n",
    "data_normalized = pd.DataFrame(data_normalized, index = data_log.index, columns=data_log.columns)\n",
    "data_normalized.describe().round(2)"
   ]
  },
  {
   "cell_type": "code",
   "execution_count": null,
   "metadata": {},
   "outputs": [],
   "source": [
    "import matplotlib.pyplot as plt\n",
    "import seaborn as sns\n",
    "from sklearn.cluster import KMeans\n",
    "\n",
    "sse = {}\n",
    "\n",
    "for k in range(1, 21):\n",
    "    kmeans = KMeans(n_clusters = k, random_state = 1)\n",
    "    kmeans.fit(data_normalized)\n",
    "    sse[k] = kmeans.inertia_\n"
   ]
  },
  {
   "cell_type": "code",
   "execution_count": null,
   "metadata": {},
   "outputs": [],
   "source": [
    "plt.figure(figsize=(10,6))\n",
    "plt.title('The Elbow Method')\n",
    "\n",
    "plt.xlabel('K')\n",
    "plt.ylabel('SSE')\n",
    "plt.style.use('ggplot')\n",
    "\n",
    "sns.pointplot(x=list(sse.keys()), y = list(sse.values()))\n",
    "plt.text(4.5, 60, \"Largest Angle\", bbox = dict(facecolor = 'lightgreen', alpha = 0.5))\n",
    "plt.show()"
   ]
  },
  {
   "cell_type": "code",
   "execution_count": null,
   "metadata": {},
   "outputs": [],
   "source": [
    "kmeans = KMeans(n_clusters=5, random_state=1)\n",
    "kmeans.fit(data_normalized)\n",
    "cluster_labels = kmeans.labels_\n",
    "\n",
    "data_rfm = data.assign(Cluster = cluster_labels)\n",
    "data_rfm.head()"
   ]
  }
 ],
 "metadata": {
  "kernelspec": {
   "display_name": "Python 3",
   "language": "python",
   "name": "python3"
  },
  "language_info": {
   "codemirror_mode": {
    "name": "ipython",
    "version": 3
   },
   "file_extension": ".py",
   "mimetype": "text/x-python",
   "name": "python",
   "nbconvert_exporter": "python",
   "pygments_lexer": "ipython3",
   "version": "3.12.6"
  },
  "orig_nbformat": 4
 },
 "nbformat": 4,
 "nbformat_minor": 2
}
